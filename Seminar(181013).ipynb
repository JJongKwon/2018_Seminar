{
 "cells": [
  {
   "cell_type": "markdown",
   "metadata": {},
   "source": [
    "# 2018.10.13 세미나 / 10:30 ~ 16:00"
   ]
  },
  {
   "cell_type": "markdown",
   "metadata": {},
   "source": [
    "**10:30 Data with storytelling**\n",
    "- The What, Why : 데이터 분석에 있어서 스토리텔링과 시각화의 필요성\n",
    "- Data Visualization Example : 다양한 시각화 예제를 살펴보면서 데이터로 부터 스토리를 만드는 과정\n",
    "- Dashboard : 스토리보드의 예제와 시각화를 위한 도구에 대한 정보 공유\n",
    "[storytelling presentation](https://github.com/JJongKwon/Seminar/blob/master/storytelling%20presentation.pdf)"
   ]
  },
  {
   "cell_type": "markdown",
   "metadata": {},
   "source": [
    "---"
   ]
  },
  {
   "cell_type": "markdown",
   "metadata": {},
   "source": [
    "**12:00 Regression & Classification 데이터 선정**\n",
    "- 서성효 : [Heart Disease](https://github.com/taejinhyun/sklearn_models/tree/master/Heart%20Disease)\n",
    "- 서동환 : [House Price](https://github.com/taejinhyun/sklearn_models/tree/master/housePrice)\n",
    "- 현태진 : [Abalone](https://github.com/taejinhyun/sklearn_models/tree/master/abalone)\n",
    "- 조종권 : [US Stock Fundamentals](https://github.com/taejinhyun/sklearn_models/tree/master/US_Fundamentals)"
   ]
  },
  {
   "cell_type": "markdown",
   "metadata": {},
   "source": [
    "데이터에 대한 설명과 데이터 선정에 대해 토론하였습니다."
   ]
  },
  {
   "cell_type": "markdown",
   "metadata": {},
   "source": [
    "토론 후\n",
    "\n",
    "Regression에는 [Abalone](https://github.com/taejinhyun/sklearn_models/tree/master/abalone) data를 \n",
    "\n",
    "Classification에는 [Heart Disease](https://github.com/taejinhyun/sklearn_models/tree/master/Heart%20Disease) data를\n",
    "\n",
    "사용하기로 하였습니다."
   ]
  },
  {
   "cell_type": "markdown",
   "metadata": {},
   "source": [
    "----"
   ]
  },
  {
   "cell_type": "markdown",
   "metadata": {},
   "source": [
    "**15:00 차주 분석 모델 선정(Nearest Neighbors, Decision Trees)**\n",
    "\n",
    "차주 세미나 일정 : 10월 20일 토요일, 11시"
   ]
  }
 ],
 "metadata": {
  "kernelspec": {
   "display_name": "Python 3",
   "language": "python",
   "name": "python3"
  },
  "language_info": {
   "codemirror_mode": {
    "name": "ipython",
    "version": 3
   },
   "file_extension": ".py",
   "mimetype": "text/x-python",
   "name": "python",
   "nbconvert_exporter": "python",
   "pygments_lexer": "ipython3",
   "version": "3.5.2"
  }
 },
 "nbformat": 4,
 "nbformat_minor": 0
}
