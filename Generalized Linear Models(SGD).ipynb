{
 "cells": [
  {
   "cell_type": "markdown",
   "metadata": {},
   "source": [
    "# Objective of the notebook\n",
    "이 노트에서 sklearn의 Generalized Linear Models에 대해 sklearn의 Documentation의 설명과 예제로 알아보고<br>\n",
    "Ridge regression와 Lasso regression를 우리의 데이터에 GridSearchCV를 통해 적용시켜 본다."
   ]
  },
  {
   "cell_type": "markdown",
   "metadata": {},
   "source": [
    "**About the dataset:**\n",
    "\n",
    "이 노트에서 사용할 데이터에 대한 설명과 전처리는 아래 페이지에서 볼 수 있다.<br>\n",
    "https://github.com/taejinhyun/skitlearn_study/blob/master/Seminar(181103).ipynb "
   ]
  },
  {
   "cell_type": "markdown",
   "metadata": {},
   "source": [
    "위 데이터에서 만들어진 features와 target 데이터를 csv파일로 저장하여 github에 업로드된 csv파일을 raw view로 url를 복사하여 pd.read_csv를 사용하여 읽어온다."
   ]
  },
  {
   "cell_type": "code",
   "execution_count": 1,
   "metadata": {},
   "outputs": [],
   "source": [
    "import pandas as pd\n",
    "import numpy as np"
   ]
  },
  {
   "cell_type": "code",
   "execution_count": 2,
   "metadata": {},
   "outputs": [],
   "source": [
    "features = pd.read_csv(\"https://raw.githubusercontent.com/JJongKwon/Seminar/master/features.csv\")\n",
    "target = pd.read_csv(\"https://raw.githubusercontent.com/JJongKwon/Seminar/master/target.csv\", header=None)"
   ]
  },
  {
   "cell_type": "code",
   "execution_count": 3,
   "metadata": {},
   "outputs": [
    {
     "data": {
      "text/html": [
       "<div>\n",
       "<style scoped>\n",
       "    .dataframe tbody tr th:only-of-type {\n",
       "        vertical-align: middle;\n",
       "    }\n",
       "\n",
       "    .dataframe tbody tr th {\n",
       "        vertical-align: top;\n",
       "    }\n",
       "\n",
       "    .dataframe thead th {\n",
       "        text-align: right;\n",
       "    }\n",
       "</style>\n",
       "<table border=\"1\" class=\"dataframe\">\n",
       "  <thead>\n",
       "    <tr style=\"text-align: right;\">\n",
       "      <th></th>\n",
       "      <th>HE_ht</th>\n",
       "      <th>HE_wt</th>\n",
       "      <th>HE_wc</th>\n",
       "      <th>HE_BMI</th>\n",
       "      <th>N_WAT_C</th>\n",
       "      <th>N_INTK</th>\n",
       "      <th>N_EN</th>\n",
       "      <th>N_WATER</th>\n",
       "      <th>N_PROT</th>\n",
       "      <th>N_FAT</th>\n",
       "      <th>...</th>\n",
       "      <th>HE_HP_2.0</th>\n",
       "      <th>HE_HP_3.0</th>\n",
       "      <th>HE_DM_1.0</th>\n",
       "      <th>HE_DM_2.0</th>\n",
       "      <th>HE_DM_3.0</th>\n",
       "      <th>HE_HCHOL_0.0</th>\n",
       "      <th>HE_HCHOL_1.0</th>\n",
       "      <th>GS_use_1.0</th>\n",
       "      <th>GS_use_2.0</th>\n",
       "      <th>GS_use_3.0</th>\n",
       "    </tr>\n",
       "  </thead>\n",
       "  <tbody>\n",
       "    <tr>\n",
       "      <th>0</th>\n",
       "      <td>153.4</td>\n",
       "      <td>68.1</td>\n",
       "      <td>81.9</td>\n",
       "      <td>28.939858</td>\n",
       "      <td>3.5</td>\n",
       "      <td>1198.226616</td>\n",
       "      <td>1930.920992</td>\n",
       "      <td>761.873294</td>\n",
       "      <td>69.515824</td>\n",
       "      <td>57.722349</td>\n",
       "      <td>...</td>\n",
       "      <td>0</td>\n",
       "      <td>0</td>\n",
       "      <td>1</td>\n",
       "      <td>0</td>\n",
       "      <td>0</td>\n",
       "      <td>1</td>\n",
       "      <td>0</td>\n",
       "      <td>1</td>\n",
       "      <td>0</td>\n",
       "      <td>0</td>\n",
       "    </tr>\n",
       "    <tr>\n",
       "      <th>1</th>\n",
       "      <td>171.2</td>\n",
       "      <td>84.0</td>\n",
       "      <td>85.5</td>\n",
       "      <td>28.659708</td>\n",
       "      <td>4.0</td>\n",
       "      <td>2099.617699</td>\n",
       "      <td>3007.329713</td>\n",
       "      <td>1427.204406</td>\n",
       "      <td>109.849807</td>\n",
       "      <td>100.764835</td>\n",
       "      <td>...</td>\n",
       "      <td>1</td>\n",
       "      <td>0</td>\n",
       "      <td>1</td>\n",
       "      <td>0</td>\n",
       "      <td>0</td>\n",
       "      <td>1</td>\n",
       "      <td>0</td>\n",
       "      <td>1</td>\n",
       "      <td>0</td>\n",
       "      <td>0</td>\n",
       "    </tr>\n",
       "    <tr>\n",
       "      <th>2</th>\n",
       "      <td>160.8</td>\n",
       "      <td>52.2</td>\n",
       "      <td>71.0</td>\n",
       "      <td>20.188238</td>\n",
       "      <td>3.0</td>\n",
       "      <td>779.230888</td>\n",
       "      <td>1502.406756</td>\n",
       "      <td>443.763134</td>\n",
       "      <td>57.129583</td>\n",
       "      <td>39.501421</td>\n",
       "      <td>...</td>\n",
       "      <td>0</td>\n",
       "      <td>1</td>\n",
       "      <td>0</td>\n",
       "      <td>0</td>\n",
       "      <td>1</td>\n",
       "      <td>1</td>\n",
       "      <td>0</td>\n",
       "      <td>1</td>\n",
       "      <td>0</td>\n",
       "      <td>0</td>\n",
       "    </tr>\n",
       "    <tr>\n",
       "      <th>3</th>\n",
       "      <td>168.8</td>\n",
       "      <td>68.8</td>\n",
       "      <td>84.0</td>\n",
       "      <td>24.145909</td>\n",
       "      <td>5.0</td>\n",
       "      <td>1165.590400</td>\n",
       "      <td>1116.380721</td>\n",
       "      <td>911.584789</td>\n",
       "      <td>36.183575</td>\n",
       "      <td>28.630711</td>\n",
       "      <td>...</td>\n",
       "      <td>1</td>\n",
       "      <td>0</td>\n",
       "      <td>1</td>\n",
       "      <td>0</td>\n",
       "      <td>0</td>\n",
       "      <td>1</td>\n",
       "      <td>0</td>\n",
       "      <td>1</td>\n",
       "      <td>0</td>\n",
       "      <td>0</td>\n",
       "    </tr>\n",
       "    <tr>\n",
       "      <th>4</th>\n",
       "      <td>162.2</td>\n",
       "      <td>80.5</td>\n",
       "      <td>98.4</td>\n",
       "      <td>30.598080</td>\n",
       "      <td>15.0</td>\n",
       "      <td>2336.472416</td>\n",
       "      <td>2465.075672</td>\n",
       "      <td>1897.949605</td>\n",
       "      <td>72.131360</td>\n",
       "      <td>68.893919</td>\n",
       "      <td>...</td>\n",
       "      <td>1</td>\n",
       "      <td>0</td>\n",
       "      <td>1</td>\n",
       "      <td>0</td>\n",
       "      <td>0</td>\n",
       "      <td>1</td>\n",
       "      <td>0</td>\n",
       "      <td>1</td>\n",
       "      <td>0</td>\n",
       "      <td>0</td>\n",
       "    </tr>\n",
       "  </tbody>\n",
       "</table>\n",
       "<p>5 rows × 68 columns</p>\n",
       "</div>"
      ],
      "text/plain": [
       "   HE_ht  HE_wt  HE_wc     HE_BMI  N_WAT_C       N_INTK         N_EN  \\\n",
       "0  153.4   68.1   81.9  28.939858      3.5  1198.226616  1930.920992   \n",
       "1  171.2   84.0   85.5  28.659708      4.0  2099.617699  3007.329713   \n",
       "2  160.8   52.2   71.0  20.188238      3.0   779.230888  1502.406756   \n",
       "3  168.8   68.8   84.0  24.145909      5.0  1165.590400  1116.380721   \n",
       "4  162.2   80.5   98.4  30.598080     15.0  2336.472416  2465.075672   \n",
       "\n",
       "       N_WATER      N_PROT       N_FAT     ...      HE_HP_2.0  HE_HP_3.0  \\\n",
       "0   761.873294   69.515824   57.722349     ...              0          0   \n",
       "1  1427.204406  109.849807  100.764835     ...              1          0   \n",
       "2   443.763134   57.129583   39.501421     ...              0          1   \n",
       "3   911.584789   36.183575   28.630711     ...              1          0   \n",
       "4  1897.949605   72.131360   68.893919     ...              1          0   \n",
       "\n",
       "   HE_DM_1.0  HE_DM_2.0  HE_DM_3.0  HE_HCHOL_0.0  HE_HCHOL_1.0  GS_use_1.0  \\\n",
       "0          1          0          0             1             0           1   \n",
       "1          1          0          0             1             0           1   \n",
       "2          0          0          1             1             0           1   \n",
       "3          1          0          0             1             0           1   \n",
       "4          1          0          0             1             0           1   \n",
       "\n",
       "   GS_use_2.0  GS_use_3.0  \n",
       "0           0           0  \n",
       "1           0           0  \n",
       "2           0           0  \n",
       "3           0           0  \n",
       "4           0           0  \n",
       "\n",
       "[5 rows x 68 columns]"
      ]
     },
     "execution_count": 3,
     "metadata": {},
     "output_type": "execute_result"
    }
   ],
   "source": [
    "features.head()"
   ]
  },
  {
   "cell_type": "code",
   "execution_count": 4,
   "metadata": {},
   "outputs": [
    {
     "data": {
      "text/plain": [
       "(11323, 68)"
      ]
     },
     "execution_count": 4,
     "metadata": {},
     "output_type": "execute_result"
    }
   ],
   "source": [
    "features.shape"
   ]
  },
  {
   "cell_type": "code",
   "execution_count": 5,
   "metadata": {},
   "outputs": [
    {
     "data": {
      "text/html": [
       "<div>\n",
       "<style scoped>\n",
       "    .dataframe tbody tr th:only-of-type {\n",
       "        vertical-align: middle;\n",
       "    }\n",
       "\n",
       "    .dataframe tbody tr th {\n",
       "        vertical-align: top;\n",
       "    }\n",
       "\n",
       "    .dataframe thead th {\n",
       "        text-align: right;\n",
       "    }\n",
       "</style>\n",
       "<table border=\"1\" class=\"dataframe\">\n",
       "  <thead>\n",
       "    <tr style=\"text-align: right;\">\n",
       "      <th></th>\n",
       "      <th>0</th>\n",
       "    </tr>\n",
       "  </thead>\n",
       "  <tbody>\n",
       "    <tr>\n",
       "      <th>0</th>\n",
       "      <td>28.4</td>\n",
       "    </tr>\n",
       "    <tr>\n",
       "      <th>1</th>\n",
       "      <td>50.6</td>\n",
       "    </tr>\n",
       "    <tr>\n",
       "      <th>2</th>\n",
       "      <td>33.6</td>\n",
       "    </tr>\n",
       "    <tr>\n",
       "      <th>3</th>\n",
       "      <td>36.5</td>\n",
       "    </tr>\n",
       "    <tr>\n",
       "      <th>4</th>\n",
       "      <td>31.7</td>\n",
       "    </tr>\n",
       "  </tbody>\n",
       "</table>\n",
       "</div>"
      ],
      "text/plain": [
       "      0\n",
       "0  28.4\n",
       "1  50.6\n",
       "2  33.6\n",
       "3  36.5\n",
       "4  31.7"
      ]
     },
     "execution_count": 5,
     "metadata": {},
     "output_type": "execute_result"
    }
   ],
   "source": [
    "target.head()"
   ]
  },
  {
   "cell_type": "code",
   "execution_count": 6,
   "metadata": {},
   "outputs": [
    {
     "data": {
      "text/plain": [
       "(11323, 1)"
      ]
     },
     "execution_count": 6,
     "metadata": {},
     "output_type": "execute_result"
    }
   ],
   "source": [
    "target.shape"
   ]
  },
  {
   "cell_type": "code",
   "execution_count": 7,
   "metadata": {},
   "outputs": [],
   "source": [
    "target = np.array(target)\n",
    "target = target.reshape((11323))"
   ]
  },
  {
   "cell_type": "markdown",
   "metadata": {},
   "source": [
    "feature를 MinMaxScaler로 scaling한다."
   ]
  },
  {
   "cell_type": "code",
   "execution_count": 8,
   "metadata": {},
   "outputs": [],
   "source": [
    "from sklearn.preprocessing import MinMaxScaler\n",
    "scaler = MinMaxScaler()\n",
    "scaler.fit(features)\n",
    "features = scaler.transform(features)"
   ]
  },
  {
   "cell_type": "markdown",
   "metadata": {},
   "source": [
    "모델을 훈련하고 성능을 평가하기 위해 train과 test 데이터로 split한다."
   ]
  },
  {
   "cell_type": "code",
   "execution_count": 10,
   "metadata": {},
   "outputs": [],
   "source": [
    "from sklearn.model_selection import train_test_split\n",
    "X_train, X_test, y_train, y_test = train_test_split(features, target, random_state=0)"
   ]
  },
  {
   "cell_type": "code",
   "execution_count": 11,
   "metadata": {},
   "outputs": [
    {
     "name": "stdout",
     "output_type": "stream",
     "text": [
      "(8492, 68) (2831, 68) (8492,) (2831,)\n"
     ]
    }
   ],
   "source": [
    "print(X_train.shape, X_test.shape, y_train.shape, y_test.shape)"
   ]
  },
  {
   "cell_type": "markdown",
   "metadata": {},
   "source": [
    "## 1. Generalized Linear Models\n",
    "https://github.com/JJongKwon/Seminar/blob/master/sklearn(Regression%2C%20Classification).ipynb\n",
    "\n",
    "|**Model**|**Module**|**Explain**|\n",
    "|:--------------------------------------------------------------------------------------------------------------------------------------------------------------------------------------------------:|:---------------------------------------------------------------------------------------------------------------------------------------------------------------------------------------------------:|:----------------------------------------------------------------------------------------------------------------------------------------------------------------------------:|\n",
    "|**1. [Generalized Linear Models](http://scikit-learn.org/stable/modules/linear_model.html)**|\n",
    "|[Stochastic Gradient Descent(SGD)](https://scikit-learn.org/stable/modules/linear_model.html#stochastic-gradient-descent-sgd)|[linear_model.SGDRegressor](https://scikit-learn.org/stable/modules/generated/sklearn.linear_model.SGDRegressor.html#sklearn-linear-model-sgdregressor)|Linear model fitted by minimizing a regularized empirical loss with SGD|\n",
    "|                                                         [Ridge](http://scikit-learn.org/stable/modules/linear_model.html#ridge-regression)                                                         |                                  [linear_model.Ridge](http://scikit-learn.org/stable/modules/generated/sklearn.linear_model.Ridge.html#sklearn.linear_model.Ridge)                                  |                                                                 Linear least squares with l2 regularization.                                                                 |\n",
    "|     .|                               [linear_model.RidgeCV](http://scikit-learn.org/stable/modules/generated/sklearn.linear_model.RidgeCV.html#sklearn.linear_model.RidgeCV)                               |                                                               Ridge regression with built-in cross-validation.|\n",
    "|                                                                                                                                                                                 .                   |                  [linear_model.ridge_regression](http://scikit-learn.org/stable/modules/generated/sklearn.linear_model.ridge_regression.html#sklearn.linear_model.ridge_regression)                 |                                                          Solve the ridge equation by the method of normal equations.                                                         |\n",
    "|                                                               [Lasso](http://scikit-learn.org/stable/modules/linear_model.html#lasso)                                                              |                                  [linear_model.Lasso](http://scikit-learn.org/stable/modules/generated/sklearn.linear_model.Lasso.html#sklearn.linear_model.Lasso)                                  |                                                       Linear Model trained with L1 prior as regularizer (aka the Lasso)                                                      |\n",
    "|                                                                                                                                                                            .                        |                               [linear_model.LassoCV](http://scikit-learn.org/stable/modules/generated/sklearn.linear_model.LassoCV.html#sklearn.linear_model.LassoCV)                               |                                                     Lasso linear model with iterative fitting along a regularization path                                                    |"
   ]
  },
  {
   "cell_type": "markdown",
   "metadata": {},
   "source": [
    "Generalized Linear Model은 목표값(target)이 입력 변수(feature)의 선형 결합(linear combination)으로 예상되는 회귀 분석을 위한 모델이다."
   ]
  },
  {
   "cell_type": "markdown",
   "metadata": {},
   "source": [
    "모듈 전체에서 벡터 $w = (w_1, ..., w_p)$는 `coef_`가, $w_0$는 `intercept_`이 가리킨다."
   ]
  },
  {
   "cell_type": "markdown",
   "metadata": {},
   "source": [
    "### 1.1 Stochastic Gradient Descent(SGD)\n",
    "https://scikit-learn.org/stable/modules/linear_model.html#stochastic-gradient-descent-sgd"
   ]
  },
  {
   "cell_type": "markdown",
   "metadata": {},
   "source": [
    "Stochastic Gradient Descent(SGD)는 선형 모형을 적합시키기 위한 간단하지만 매우 효율적인 접근법이다.\n",
    "\n",
    "특히 sample(feature)의 수가 매우 클 때 유용하다.\n",
    "\n",
    "SGDClassifier와 SGDRegressor는 서로 다른(convex) loss function와 패널티를 사용하여 분류와 회귀를 위한 선형 모델에 적합한 기능을 제공한다.<br>\n",
    "[Convex function](http://sanghyukchun.github.io/63/)\n",
    "\n",
    "- SGDClassifier는 로지스틱 회귀 모형을 적합(loss=\"log\") \n",
    "- SGDRegressor는 Linear SVM에 적합(loss=\"inge\")"
   ]
  },
  {
   "cell_type": "markdown",
   "metadata": {},
   "source": [
    "### References\n",
    "SGD는 기계학습 커뮤니티에서 오랫동안 존재해왔지만, 최근 대규모 학습이라는 맥락에서 상당한 관심을 받아왔다.\n",
    "\n",
    "SGD는 텍스트 분류와 자연어 처리에서 자주 발생하는 큰 규모와 sparse한 기계 학습 문제에 성공적으로 적용되었다.<br>\n",
    "데이터가 sparse한 경우,$10^5$개 이상의 훈련 example와 $10^5$개 이상의 feature로 쉽게 문제를 해결할 수 있다.\n",
    "\n",
    "**이점**\n",
    "- 효율성\n",
    "- 쉬운 구현(많은 코드 튜닝의 기회)\n",
    "\n",
    "**단점**\n",
    "- 규제화 파라미터와 반복수와 같은 하이퍼파라미터의 수 필요\n",
    "- feature scaling에 민감."
   ]
  },
  {
   "cell_type": "markdown",
   "metadata": {},
   "source": [
    "### 1.1.2 SGD Regression\n",
    "SGDRegressor는 다양한 손실 함수와 패널티를 지원하는 선형 회귀 모델에 적합한 plain stochastic gradient descent learning routine을 구현한다. SGDRegressor는 많은 훈련 샘플(10.000보다 큰)의 회귀 문제에 적합하며, 다른 문제에는 Ridge, Lasso 또는 ElasticNet을 권장한다.\n",
    "\n",
    "구체적인 손실 함수는 `loss` 매개 변수를 통해 설정할 수 있다.\n",
    "- `loss=\"squared_loss\"`: Ordinary least squares,\n",
    "- `loss=\"huber\"`: Huber loss for robust regression,\n",
    "- `loss=\"epsilon_insensitive\"`: linear Support Vector Regression.<br>\n",
    "*Huber 및 epsilon-insensitive(엡실론에 민감하지 않은) 손실 함수는 robust 회귀에 사용될 수 있다.<br> \n",
    "민감하지 않은 영역의 너비는 매개 변수 `epsilon`을 통해 지정해야한다.<br>\n",
    "이 매개 변수는 target 변수의 scale에 따라 다릅니다.*\n",
    "\n",
    "SGDRegressor supports averaged SGD as SGDClassifier. Averaging can be enabled by setting `average=True`.\n",
    "SGDRegressor는 평균 SGD를 SGDClassifier로 지원합니다. 평균은`average = True`로 설정하면 가능합니다.\n",
    "\n",
    "For regression with a squared loss and a l2 penalty, another variant of SGD with an averaging strategy is available with Stochastic Average Gradient (SAG) algorithm, available as a solver in Ridge.\n",
    "제곱 손실 및 12 페널티가있는 회귀 분석의 경우 평균화 전략을 사용하는 SGD의 다른 변형을 확률 평균 평균 그래디언트 (SIC : Stochastic Average Gradient) 알고리즘과 함께 사용할 수 있으며 릿지의 솔버로 사용할 수 있습니다."
   ]
  },
  {
   "cell_type": "markdown",
   "metadata": {},
   "source": [
    "#### sklearn.linear_model.SGDRegressor\n",
    "SGD로 규제화된 경험적 손실을 최소화하여 적합된 선형 모델\n",
    "\n",
    "SGD stands for Stochastic Gradient Descent: the gradient of the loss is estimated each sample at a time and the model is updated along the way with a decreasing strength schedule (aka learning rate).\n",
    "SGD는 loss의 gradient는 한 번에 각 sample에 대해 추정되며, 모델은 감소하는 학습 속도에 따라 업데이트된다.\n",
    "\n",
    "The regularizer is a penalty added to the loss function that shrinks model parameters towards the zero vector using either the squared euclidean norm L2 or the absolute norm L1 or a combination of both (Elastic Net). If the parameter update crosses the 0.0 value because of the regularizer, the update is truncated to 0.0 to allow for learning sparse models and achieve online feature selection.\n",
    "규제화(정규화)란 유클리드 표준 L2 또는 절대 표준 L1 또는 두 가지 모두의 조합(탄성 네트)을 사용하여 제로 벡터에 대한 모델 매개변수를 축소하는 손실 기능에 추가된 페널티다. 정규화기로 인해 파라미터 업데이트가 0.0 값을 초과하면 스파스 모델을 학습하고 온라인 기능 선택을 달성할 수 있도록 업데이트가 0.0으로 잘린다.\n",
    "\n",
    "This implementation works with data represented as dense numpy arrays of floating point values for the features.\n",
    "이 구현은 형상에 대한 부동 소수점 값의 조밀한 numpy 배열로 표현되는 데이터를 사용하여 작동한다."
   ]
  },
  {
   "cell_type": "markdown",
   "metadata": {},
   "source": [
    "The partial_fit method allows online/out-of-core learning."
   ]
  },
  {
   "cell_type": "markdown",
   "metadata": {},
   "source": [
    "```python\n",
    "class sklearn.linear_model.LinearRegression(fit_intercept=True, normalize=False, copy_X=True, n_jobs=None)\n",
    "```\n",
    "\n",
    "`fit_intercept` *(defalut: True)*\n",
    "- True : 절편이 있는 모형\n",
    "-  False : 절편이 없는 모형\n",
    "\n",
    "`normalize` : 설명변수의 표준화 여부 *(defalut: False)*\n",
    "\n",
    "`copy_X` : 표준화를 했을 경우 덮어쓰기 여부 *(defalut: True)*\n",
    "- True : 덮어쓰지 않고 새로 만든다.\n",
    "- False : 덮어쓴다.\n",
    "\n",
    "`n_jobs` : 작업간 사용할 CPU 코어 개수 지정 *(defalut: None)*\n",
    "- n_jobs=-1 : 모든 코어 사용을 지정"
   ]
  },
  {
   "cell_type": "code",
   "execution_count": 11,
   "metadata": {},
   "outputs": [],
   "source": [
    "from sklearn.linear_model import LinearRegression\n",
    "reg = LinearRegression().fit(X_train, y_train)"
   ]
  },
  {
   "cell_type": "code",
   "execution_count": 38,
   "metadata": {},
   "outputs": [
    {
     "data": {
      "text/plain": [
       "0.6393769511624625"
      ]
     },
     "execution_count": 38,
     "metadata": {},
     "output_type": "execute_result"
    }
   ],
   "source": [
    "reg.score(X_test, y_test)"
   ]
  },
  {
   "cell_type": "code",
   "execution_count": 14,
   "metadata": {
    "scrolled": true
   },
   "outputs": [
    {
     "data": {
      "text/plain": [
       "array([[ 3.51344228e-01,  4.77855206e-01, -1.05509997e-01,\n",
       "        -6.33626834e-01, -1.21217640e-02, -6.24698731e-03,\n",
       "         2.11350028e-03,  6.14890574e-03, -3.43202234e-04,\n",
       "         1.97971361e-02, -3.82218499e-02, -4.60348834e-02,\n",
       "        -4.83999227e-02, -6.46821052e-02,  5.63145327e-03,\n",
       "        -4.60269423e-04,  2.34479409e-04,  3.22162181e-03,\n",
       "         3.14758123e-04,  9.22242923e-05,  1.32112932e-02,\n",
       "         8.49645952e-05, -6.27640770e-05, -1.45848154e-03,\n",
       "         2.53459599e-04,  1.45701148e-03,  4.58938703e-01,\n",
       "        -4.40689233e-02,  4.50844820e-03, -1.85691666e-03,\n",
       "        -4.52403998e-01,  1.91446781e-01,  2.38793071e-01,\n",
       "         2.21641463e-02, -4.01899626e-01, -1.92035184e-01,\n",
       "         3.59650424e-01,  2.34284385e-01, -6.49236190e-01,\n",
       "        -6.39700311e-01, -6.07407896e-01,  1.20446189e+00,\n",
       "         3.06890870e+00, -2.31281227e-01, -2.14574496e+00,\n",
       "         7.64184723e-01, -7.64184723e-01, -1.47666724e+00,\n",
       "         1.47666724e+00, -3.07064248e-01,  3.07064248e-01,\n",
       "        -2.98841386e-01,  2.98841386e-01,  1.14910051e-02,\n",
       "        -1.14910051e-02, -8.85244109e-01,  8.85244109e-01,\n",
       "        -9.80591634e-01,  6.31107558e-01,  3.49484076e-01,\n",
       "        -1.93514832e-02,  3.38935080e-01, -3.19583596e-01,\n",
       "        -1.75981945e-02,  1.75981945e-02,  1.79832784e-02,\n",
       "        -1.96595388e-01,  1.78612110e-01]])"
      ]
     },
     "execution_count": 14,
     "metadata": {},
     "output_type": "execute_result"
    }
   ],
   "source": [
    "reg.coef_"
   ]
  },
  {
   "cell_type": "code",
   "execution_count": 15,
   "metadata": {},
   "outputs": [
    {
     "data": {
      "text/plain": [
       "array([-31.2201846])"
      ]
     },
     "execution_count": 15,
     "metadata": {},
     "output_type": "execute_result"
    }
   ],
   "source": [
    "reg.intercept_ "
   ]
  },
  {
   "cell_type": "markdown",
   "metadata": {},
   "source": [
    "### 1.2. [Ridge Regression](https://scikit-learn.org/stable/modules/linear_model.html#ridge-regression)"
   ]
  },
  {
   "cell_type": "markdown",
   "metadata": {},
   "source": [
    "$$\\min_{w} {{|| X w - y||_2}^2 + \\alpha {||w||_2}^2}$$"
   ]
  },
  {
   "cell_type": "markdown",
   "metadata": {},
   "source": [
    "**Ridge regression**는 계수의 크기(parameter)에 페널티를 부과함으로써 최소 제곱의 계수의 크기가 커지는것을 해결한다(계수가 커지면 일반화 능력이 떨어지기 때문). \n",
    "\n",
    "페널티가 있는 잔차 제곱합을 최소화한다. 여기에서 $\\alpha \\geq 0$은 shrinkage(수축)을 제어하는 복잡도 매개 변수다."
   ]
  },
  {
   "cell_type": "markdown",
   "metadata": {},
   "source": [
    "```python\n",
    "class sklearn.linear_model.Ridge(alpha=1.0, fit_intercept=True, normalize=False, copy_X=True, max_iter=None, tol=0.001, solver=’auto’, random_state=None)\n",
    "```\n",
    "`fit_intercept` , `normalize` , `copy_X` , `n_jobs`, `random_state`\n",
    "\n",
    "`alpha` : Regularization strength(규제 강도)<br>\n",
    "값이 클수록 더 강한 규제가 지정된다.<br>\n",
    "\n",
    "`max_iter` : int, optional<br>\n",
    "Maximum number of iterations for conjugate gradient solver. \n",
    "\n",
    "`tol` : float<br>\n",
    "Precision of the solution.\n",
    "\n",
    "`solver` : {'auto', 'svd', 'cholesky', 'lsqr', 'sparse_cg', 'sag', 'saga'}<br>\n",
    "Solver to use in the computational routines\n",
    "- auto : 데이터 유형에 따라 자동으로 solver를 선택\n",
    "- svd : X의 Singular Value Decomposition(특이값분해)를 통해 릿지 계수를 계산한다.\n",
    "- cholesky : uses the standard scipy.linalg.solve function to obtain a closed-form solution.\n",
    "- sparse_cg : uses the conjugate gradient solver as found in scipy.sparse.linalg.cg. \n",
    "- lsqr : uses the dedicated regularized least-squares routine scipy.sparse.linalg.lsqr. It is the fastest and uses an iterative procedure.\n",
    "- sag : uses a Stochastic Average Gradient descent, and 'saga' uses its improved"
   ]
  },
  {
   "cell_type": "code",
   "execution_count": 40,
   "metadata": {},
   "outputs": [
    {
     "data": {
      "text/plain": [
       "Ridge(alpha=1.0, copy_X=True, fit_intercept=True, max_iter=None,\n",
       "   normalize=False, random_state=None, solver='auto', tol=0.001)"
      ]
     },
     "execution_count": 40,
     "metadata": {},
     "output_type": "execute_result"
    }
   ],
   "source": [
    "from sklearn.linear_model import Ridge\n",
    "np.random.seed(20181201)\n",
    "\n",
    "ridge = Ridge(alpha=1.0)\n",
    "ridge.fit(X_train, y_train) "
   ]
  },
  {
   "cell_type": "code",
   "execution_count": 41,
   "metadata": {},
   "outputs": [
    {
     "data": {
      "text/plain": [
       "0.6393794649368093"
      ]
     },
     "execution_count": 41,
     "metadata": {},
     "output_type": "execute_result"
    }
   ],
   "source": [
    "ridge.score(X_test, y_test)"
   ]
  },
  {
   "cell_type": "code",
   "execution_count": 1,
   "metadata": {},
   "outputs": [
    {
     "name": "stdout",
     "output_type": "stream",
     "text": [
      "Automatically created module for IPython interactive environment\n"
     ]
    }
   ],
   "source": [
    "# Author: Fabian Pedregosa -- <fabian.pedregosa@inria.fr>\n",
    "# License: BSD 3 clause\n",
    "\n",
    "print(__doc__)"
   ]
  },
  {
   "cell_type": "code",
   "execution_count": 23,
   "metadata": {},
   "outputs": [
    {
     "data": {
      "image/png": "[encoded data removed]",
      "text/plain": [
       "<Figure size 432x288 with 1 Axes>"
      ]
     },
     "metadata": {
      "needs_background": "light"
     },
     "output_type": "display_data"
    }
   ],
   "source": [
    "import numpy as np\n",
    "import matplotlib.pyplot as plt\n",
    "from sklearn import linear_model\n",
    "%matplotlib inline\n",
    "\n",
    "# X is the 10x10 Hilbert matrix\n",
    "X = 1. / (np.arange(1, 11) + np.arange(0, 10)[:, np.newaxis])\n",
    "y = np.ones(10)\n",
    "\n",
    "# #############################################################################\n",
    "# Compute paths\n",
    "\n",
    "n_alphas = 200\n",
    "alphas = np.logspace(-10, -2, n_alphas)\n",
    "\n",
    "coefs = []\n",
    "for a in alphas:\n",
    "    ridge = linear_model.Ridge(alpha=a, fit_intercept=False)\n",
    "    ridge.fit(X, y)\n",
    "    coefs.append(ridge.coef_)\n",
    "\n",
    "# #############################################################################\n",
    "# Display results\n",
    "\n",
    "ax = plt.gca()\n",
    "\n",
    "ax.plot(alphas, coefs)\n",
    "ax.set_xscale('log')\n",
    "ax.set_xlim(ax.get_xlim()[::-1])  # reverse axis\n",
    "plt.xlabel('alpha')\n",
    "plt.ylabel('weights')\n",
    "plt.title('Ridge coefficients as a function of the regularization')\n",
    "plt.axis('tight')\n",
    "plt.show()"
   ]
  },
  {
   "cell_type": "markdown",
   "metadata": {},
   "source": [
    "추정량의 계수에 공선성의 영향을 표시한다.<br>\n",
    "각 색상은 계수 벡터의 다른 특징을 나타내며, 이는 규제화 매개 변수의 함수로 표시된다.\n",
    "\n",
    "이 예제는 또한 ill-conditioning 행렬에 릿지 회귀를 적용하는 것이 유용함을 보여줍니다.<br> \n",
    "이러한 행렬의 경우 target 변수가 약간 변경되면 계산된 가중치가 크게 달라질 수 있습니다.<br> \n",
    "그러한 경우, 이 변동(노이즈)을 줄이기 위해 특정 규제화($\\alpha$)를 설정하는 것이 유용합니다.<br>\n",
    "\n",
    "$\\alpha$가 매우 큰 경우 규제 효과가 제곱된 손실 함수를 지배하고 계수는 0이 됩니다.<br>\n",
    "경로의 끝에서 알파는 0으로 향하고 solution은 일반적인 최소 제곱으로 향하기 때문에 계수는 큰 진동을 나타냅니다.<br>\n",
    "실제로는 둘 사이의 균형이 유지되는 방식으로 $\\alpha$를 조정해야합니다.<br>"
   ]
  },
  {
   "cell_type": "markdown",
   "metadata": {},
   "source": [
    "ill-conditioning에 대한 설명 : http://www.cs.uleth.ca/~holzmann/notes/illconditioned.pdf"
   ]
  },
  {
   "cell_type": "markdown",
   "metadata": {},
   "source": [
    "```python\n",
    "class sklearn.linear_model.RidgeCV(alphas=(0.1, 1.0, 10.0), fit_intercept=True, normalize=False, scoring=None, cv=None, gcv_mode=None, store_cv_values=False)\n",
    "```"
   ]
  },
  {
   "cell_type": "markdown",
   "metadata": {},
   "source": [
    "릿지 회귀에 내장된 교차 검증을 사용 *default : Leave-One-Out 교차 검증*"
   ]
  },
  {
   "cell_type": "code",
   "execution_count": 26,
   "metadata": {},
   "outputs": [
    {
     "data": {
      "text/plain": [
       "0.6393988535294106"
      ]
     },
     "execution_count": 26,
     "metadata": {},
     "output_type": "execute_result"
    }
   ],
   "source": [
    "from sklearn.linear_model import RidgeCV\n",
    "ridgecv = linear_model.RidgeCV(alphas=[0.1, 1.0, 10.0], cv=3)\n",
    "ridgecv.fit(X_train, y_train)\n",
    "ridgecv.score(X_test, y_test) "
   ]
  },
  {
   "cell_type": "markdown",
   "metadata": {},
   "source": [
    "```python\n",
    "sklearn.linear_model.ridge_regression(X, y, alpha, sample_weight=None, solver=’auto’, max_iter=None, tol=0.001, verbose=0, random_state=None, return_n_iter=False, return_intercept=False)\n",
    "```"
   ]
  },
  {
   "cell_type": "markdown",
   "metadata": {},
   "source": [
    "Normal Equations 방법으로 Ridge Equation를 푼다.\n",
    "\n",
    "Normal Equations에 대해서는 아래에 정리되어있다.<br>\n",
    "https://github.com/JJongKwon/Study/blob/master/Chapter7%20Linear%20Regression(Normal%20equation).ipynb"
   ]
  },
  {
   "cell_type": "markdown",
   "metadata": {},
   "source": [
    "### 1.3. [Lasso Regression](https://scikit-learn.org/stable/modules/linear_model.html#lasso)"
   ]
  },
  {
   "cell_type": "markdown",
   "metadata": {},
   "source": [
    "Lasso는 희소(sparse) 계수를 추정하는 선형 모델이다.<br>\n",
    "매개 변수 값이 적은 solution을 선호하여 주어진 solution이 종속되는 변수의 수를 효과적으로 줄이는 경향 때문에 일부 상황에서 유용하다. <br>\n",
    "이러한 이유로 Lasso와 그 변형은 압축 감지 분야의 기본이다. (압축 감지 : Lasso가 있는 [단층 촬영 재구성 참조](https://scikit-learn.org/stable/auto_examples/applications/plot_tomography_l1_reconstruction.html#sphx-glr-auto-examples-applications-plot-tomography-l1-reconstruction-py))"
   ]
  },
  {
   "cell_type": "markdown",
   "metadata": {},
   "source": [
    "최소화할 목적 함수는 다음과 같다."
   ]
  },
  {
   "cell_type": "markdown",
   "metadata": {},
   "source": [
    "$$\\min_{w} { \\frac{1}{2n_{samples}} ||X w - y||_2 ^ 2 + \\alpha ||w||_1}$$"
   ]
  },
  {
   "cell_type": "markdown",
   "metadata": {},
   "source": [
    "따라서 Lasso 추정은 $\\alpha ||w||_1$ 패널티를 가진 최소제곱을 최소화한다. \n",
    "이때, $\\alpha$는 상수이고 $||w||_1$는 파라미터의 벡터의 $l1$-norm이다."
   ]
  },
  {
   "cell_type": "markdown",
   "metadata": {},
   "source": [
    "$\\alpha$ 매개 변수는 추정된 계수의 희소성 정도를 제어한다."
   ]
  },
  {
   "cell_type": "markdown",
   "metadata": {},
   "source": [
    "```python\n",
    "class sklearn.linear_model.Lasso(alpha=1.0, fit_intercept=True, normalize=False, precompute=False, copy_X=True, max_iter=1000, tol=0.0001, warm_start=False, positive=False, random_state=None, selection=’cyclic’)\n",
    "```"
   ]
  },
  {
   "cell_type": "markdown",
   "metadata": {},
   "source": [
    "`fit_intercept`, `normalize`, `tol`, `copy_X`, `random_state`\n",
    "\n",
    "`alpha` : L1항에 곱하는 상수. *default = 1.0*<br>\n",
    "alpha = 0는 LinearRegression과 동일합니다. (수치적인 이유로, alpha = 0을 사용하는 것은 권장되지 않는다.)\n",
    "\n",
    "`max_iter` : 최대 반복 수\n",
    "\n",
    "`positive` : True일 때, 계수가 정수가 되도록 한다.\n",
    "\n",
    "`precompute` : True | False | array-like, default=False<br>\n",
    "계산 속도를 높이기 위해 사전 계산 된 Gram matrix를 사용할지 여부.<br>\n",
    "'auto'로 설정하면 Gram matrix가 인자로 전달될 수 있다.\n",
    "\n",
    "`selection` : str, default 'cyclic'<br>\n",
    "If set to 'random', a random coefficient is updated every iteration rather than looping over features sequentially by default.<br>\n",
    "This (setting to 'random') often leads to **significantly faster convergence** especially when tol is higher than 1e-4."
   ]
  },
  {
   "cell_type": "markdown",
   "metadata": {},
   "source": [
    "Gram matrix에 대한 설명 : https://en.wikipedia.org/wiki/Gramian_matrix"
   ]
  },
  {
   "cell_type": "code",
   "execution_count": 6,
   "metadata": {},
   "outputs": [
    {
     "data": {
      "text/plain": [
       "Lasso(alpha=0.1, copy_X=True, fit_intercept=True, max_iter=30000,\n",
       "   normalize=False, positive=False, precompute=False, random_state=None,\n",
       "   selection='cyclic', tol=0.0001, warm_start=False)"
      ]
     },
     "execution_count": 6,
     "metadata": {},
     "output_type": "execute_result"
    }
   ],
   "source": [
    "from sklearn.linear_model import Lasso\n",
    "lasso = Lasso(alpha=0.1, max_iter=30000)\n",
    "lasso.fit(X_train, y_train)"
   ]
  },
  {
   "cell_type": "code",
   "execution_count": 7,
   "metadata": {},
   "outputs": [
    {
     "data": {
      "text/plain": [
       "0.6323860284020162"
      ]
     },
     "execution_count": 7,
     "metadata": {},
     "output_type": "execute_result"
    }
   ],
   "source": [
    "lasso.score(X_test, y_test)"
   ]
  },
  {
   "cell_type": "markdown",
   "metadata": {},
   "source": [
    "```python\n",
    "class sklearn.linear_model.LassoCV(eps=0.001, n_alphas=100, alphas=None, fit_intercept=True, normalize=False, precompute=’auto’, max_iter=1000, tol=0.0001, copy_X=True, cv=’warn’, verbose=False, n_jobs=None, positive=False, random_state=None, selection=’cyclic’)\n",
    "```"
   ]
  },
  {
   "cell_type": "markdown",
   "metadata": {},
   "source": [
    "규제화 경로를 따라 fitting을 반복하는 Lasso 선형 모델입니다."
   ]
  },
  {
   "cell_type": "markdown",
   "metadata": {},
   "source": [
    "`fit_intercept`, `normalize`, `precompute`, `max_iter`, `tol`, `copy_X`, `verbose`, `n_jobs`, `positive`, `random_state`, `selection`\n",
    "\n",
    "`eps` : 경로의 길이.<br>\n",
    "eps=1e-3 => alpha_min / alpha_max = 1e-3.\n",
    "\n",
    "`n_alphas` : 규제화 경로 사이의 $\\alpha$의 수\n",
    "\n",
    "`alphas` : 모델을 계산할 $\\alpha$의 list<br>\n",
    "If None alphas are set automatically\n",
    "\n",
    "`cv` : int, cross-validation generator or an iterable, optional<br>\n",
    "None, to use the default 3-fold cross-validation,"
   ]
  },
  {
   "cell_type": "code",
   "execution_count": 20,
   "metadata": {},
   "outputs": [
    {
     "data": {
      "text/plain": [
       "LassoCV(alphas=None, copy_X=True, cv=None, eps=0.001, fit_intercept=True,\n",
       "    max_iter=1000, n_alphas=100, n_jobs=1, normalize=False, positive=False,\n",
       "    precompute='auto', random_state=None, selection='cyclic', tol=0.0001,\n",
       "    verbose=False)"
      ]
     },
     "execution_count": 20,
     "metadata": {},
     "output_type": "execute_result"
    }
   ],
   "source": [
    "from sklearn.linear_model import LassoCV\n",
    "lassoCV = LassoCV()\n",
    "lassoCV.fit(X_train, y_train)"
   ]
  },
  {
   "cell_type": "code",
   "execution_count": 21,
   "metadata": {},
   "outputs": [
    {
     "data": {
      "text/plain": [
       "0.5862991776069626"
      ]
     },
     "execution_count": 21,
     "metadata": {},
     "output_type": "execute_result"
    }
   ],
   "source": [
    "lassoCV.score(X_test, y_test)"
   ]
  },
  {
   "cell_type": "markdown",
   "metadata": {},
   "source": [
    "## GridSearch"
   ]
  },
  {
   "cell_type": "markdown",
   "metadata": {},
   "source": [
    "지난 세미나때 이용한 Ensemble 방법과 Ridge, Lasso를 pipline을 사용하여 GridSearch를 해보고자 한다."
   ]
  },
  {
   "cell_type": "code",
   "execution_count": 35,
   "metadata": {},
   "outputs": [],
   "source": [
    "from sklearn.pipeline import Pipeline\n",
    "from sklearn.pipeline import make_pipeline\n",
    "from sklearn.model_selection import GridSearchCV\n",
    "import numpy as np"
   ]
  },
  {
   "cell_type": "markdown",
   "metadata": {},
   "source": [
    "먼저 ridge와 lasso의 매개변수들에 대해 gridsearch를 수행하여 best_estimator를 찾고자한다."
   ]
  },
  {
   "cell_type": "code",
   "execution_count": 42,
   "metadata": {},
   "outputs": [],
   "source": [
    "# Create a pipeline\n",
    "pipe = Pipeline([('regressor', Ridge())])\n",
    "\n",
    "\n",
    "search_space = [{'regressor': [Ridge()],\n",
    "                 'regressor__alpha':[10**i for i in [2, 1, 0, -1, -2]]},\n",
    "                {'regressor': [Lasso()],\n",
    "                 'regressor__alpha':[10**i for i in [2, 1, 0, -1, -2]],\n",
    "                 'regressor__max_iter': [50000]}]"
   ]
  },
  {
   "cell_type": "code",
   "execution_count": 44,
   "metadata": {},
   "outputs": [],
   "source": [
    "from sklearn.model_selection import KFold\n",
    "kfold = KFold(n_splits=5)\n",
    "regCV = GridSearchCV(pipe, search_space, cv=kfold)"
   ]
  },
  {
   "cell_type": "code",
   "execution_count": null,
   "metadata": {
    "scrolled": true
   },
   "outputs": [],
   "source": [
    "regCV.fit(X_train,y_train)"
   ]
  },
  {
   "cell_type": "code",
   "execution_count": null,
   "metadata": {},
   "outputs": [],
   "source": [
    "regCV.score(X_test,y_test)"
   ]
  },
  {
   "cell_type": "code",
   "execution_count": null,
   "metadata": {},
   "outputs": [],
   "source": [
    "regCV.best_estimator_"
   ]
  },
  {
   "cell_type": "code",
   "execution_count": 37,
   "metadata": {},
   "outputs": [],
   "source": [
    "from sklearn.ensemble import AdaBoostRegressor, BaggingRegressor"
   ]
  },
  {
   "cell_type": "markdown",
   "metadata": {},
   "source": [
    "위에서 찾은 best_estimator를 ensemble 모델의 base_estimator로 전달하고 다른 매개변수들을 gridsearch 한다. "
   ]
  },
  {
   "cell_type": "code",
   "execution_count": null,
   "metadata": {},
   "outputs": [],
   "source": [
    "# Create a pipeline\n",
    "pipe = Pipeline([('regressor', AdaBoostRegressor())])\n",
    "\n",
    "ensemble_search = [{'regressor': [AdaBoostRegressor(regCV.best_estimator_)],\n",
    "                 'regressor__n_estimators': [5, 10, 30],\n",
    "                 'regressor__learning_rate': [0.1, 0.01, 0.001],\n",
    "                'regressor_loss': ['linear', 'square', 'exponential']},\n",
    "               {'regressor': [BaggingRegressor(regCV.best_estimator_)],\n",
    "                 'regressor__n_estimators': [5, 10, 30],\n",
    "                 'regressor__max_features': [0.1, 0.5, 1.0],\n",
    "                 'regressor__max_samples': [0.1, 0.5, 1]}]"
   ]
  },
  {
   "cell_type": "code",
   "execution_count": null,
   "metadata": {},
   "outputs": [],
   "source": [
    "from sklearn.model_selection import KFold"
   ]
  },
  {
   "cell_type": "code",
   "execution_count": null,
   "metadata": {},
   "outputs": [],
   "source": [
    "kf = KFold(n_splits=5)"
   ]
  },
  {
   "cell_type": "code",
   "execution_count": null,
   "metadata": {},
   "outputs": [],
   "source": [
    "ensembleCV = GridSearchCV(pipe, ensemble_search, cv=kf)"
   ]
  },
  {
   "cell_type": "code",
   "execution_count": null,
   "metadata": {},
   "outputs": [],
   "source": [
    "ensembleCV.fit(X_train,y_train)"
   ]
  },
  {
   "cell_type": "code",
   "execution_count": null,
   "metadata": {},
   "outputs": [],
   "source": [
    "ensembleCV.score(X_test,y_test)"
   ]
  },
  {
   "cell_type": "code",
   "execution_count": null,
   "metadata": {},
   "outputs": [],
   "source": [
    "ensembleCV.best_estimator_"
   ]
  }
 ],
 "metadata": {
  "kernelspec": {
   "display_name": "Python 3",
   "language": "python",
   "name": "python3"
  },
  "language_info": {
   "codemirror_mode": {
    "name": "ipython",
    "version": 3
   },
   "file_extension": ".py",
   "mimetype": "text/x-python",
   "name": "python",
   "nbconvert_exporter": "python",
   "pygments_lexer": "ipython3",
   "version": "3.6.5"
  }
 },
 "nbformat": 4,
 "nbformat_minor": 2
}
