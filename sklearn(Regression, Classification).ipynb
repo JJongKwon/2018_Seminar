{
 "cells": [
  {
   "cell_type": "markdown",
   "metadata": {},
   "source": [
    "# Object Notebook:\n",
    "\n",
    "이 노트는 Python의 머신러닝 패키지인 [scikit-learn](https://scikit-learn.org/stable/index.html)의 Regression과 Classification 모델들에 대한 모듈들을 정리해놓은 것입니다."
   ]
  },
  {
   "cell_type": "markdown",
   "metadata": {},
   "source": [
    "# Regression"
   ]
  },
  {
   "cell_type": "markdown",
   "metadata": {},
   "source": [
    "|**Model**|**Module**|**Explain**|\n",
    "|:--------------------------------------------------------------------------------------------------------------------------------------------------------------------------------------------------:|:---------------------------------------------------------------------------------------------------------------------------------------------------------------------------------------------------:|:----------------------------------------------------------------------------------------------------------------------------------------------------------------------------:|\n",
    "|**1. [Generalized Linear Models](http://scikit-learn.org/stable/modules/linear_model.html)**|||\n",
    "|                                              [Ordinary Least Squares](http://scikit-learn.org/stable/modules/linear_model.html#ordinary-least-squares)                                             |                  [linear_model.LinearRegression](http://scikit-learn.org/stable/modules/generated/sklearn.linear_model.LinearRegression.html#sklearn.linear_model.LinearRegression)                 |                                                                   Ordinary least squares Linear Regression.                                                                  |\n",
    "|                                                         [Ridge](http://scikit-learn.org/stable/modules/linear_model.html#ridge-regression)                                                         |                                  [linear_model.Ridge](http://scikit-learn.org/stable/modules/generated/sklearn.linear_model.Ridge.html#sklearn.linear_model.Ridge)                                  |                                                                 Linear least squares with l2 regularization.                                                                 |\n",
    "|                                                                                                                                                                                                    |                               [linear_model.RidgeCV](http://scikit-learn.org/stable/modules/generated/sklearn.linear_model.RidgeCV.html#sklearn.linear_model.RidgeCV)                               |                                                               Ridge regression with built-in cross-validation.                                                               |\n",
    "|                                                                                                                                                                                                    |                  [linear_model.ridge_regression](http://scikit-learn.org/stable/modules/generated/sklearn.linear_model.ridge_regression.html#sklearn.linear_model.ridge_regression)                 |                                                          Solve the ridge equation by the method of normal equations.                                                         |\n",
    "|                                                               [Lasso](http://scikit-learn.org/stable/modules/linear_model.html#lasso)                                                              |                                  [linear_model.Lasso](http://scikit-learn.org/stable/modules/generated/sklearn.linear_model.Lasso.html#sklearn.linear_model.Lasso)                                  |                                                       Linear Model trained with L1 prior as regularizer (aka the Lasso)                                                      |\n",
    "|                                                                                                                                                                                                    |                               [linear_model.LassoCV](http://scikit-learn.org/stable/modules/generated/sklearn.linear_model.LassoCV.html#sklearn.linear_model.LassoCV)                               |                                                     Lasso linear model with iterative fitting along a regularization path                                                    |\n",
    "|                                                    [Multi-task Lasso](http://scikit-learn.org/stable/modules/linear_model.html#multi-task-lasso)                                                   |                  [linear_model.MultiTaskLassoCV](http://scikit-learn.org/stable/modules/generated/sklearn.linear_model.MultiTaskLassoCV.html#sklearn.linear_model.MultiTaskLassoCV)                 |                                                            Multi-task L1/L2 Lasso with built-in cross-validation.                                                            |\n",
    "|                                                         [Elastic Net](http://scikit-learn.org/stable/modules/linear_model.html#elastic-net)                                                        |                           [linear_model.ElasticNet](http://scikit-learn.org/stable/modules/generated/sklearn.linear_model.ElasticNet.html#sklearn.linear_model.ElasticNet)                          |                                                       Linear regression with combined L1 and L2 priors as regularizer.                                                       |\n",
    "|                                                                                                                                                                                                    |                        [linear_model.ElasticNetCV](http://scikit-learn.org/stable/modules/generated/sklearn.linear_model.ElasticNetCV.html#sklearn.linear_model.ElasticNetCV)                       |                                                     Elastic Net model with iterative fitting along a regularization path                                                     |\n",
    "|                                              [Multi-task Elastic Net](http://scikit-learn.org/stable/modules/linear_model.html#multi-task-elastic-net)                                             |             [linear_model.MultiTaskElasticNet](http://scikit-learn.org/stable/modules/generated/sklearn.linear_model.MultiTaskElasticNet.html#sklearn.linear_model.MultiTaskElasticNet)             |                                                   Multi-task ElasticNet model trained with L1/L2 mixed-norm as regularizer                                                   |\n",
    "|                                              [Least Angle Regression](http://scikit-learn.org/stable/modules/linear_model.html#least-angle-regression)                                             |                                    [linear_model.Lars](http://scikit-learn.org/stable/modules/generated/sklearn.linear_model.Lars.html#sklearn.linear_model.Lars)                                   |                                                                      Least Angle Regression model a.k.a.                                                                     |\n",
    "|                                                          [LARS Lasso](http://scikit-learn.org/stable/modules/linear_model.html#lars-lasso)                                                         |                            [linear_model.LassoLars](http://scikit-learn.org/stable/modules/generated/sklearn.linear_model.LassoLars.html#sklearn.linear_model.LassoLars)                            |                                                              Lasso model fit with Least Angle Regression a.k.a.                                                              |\n",
    "|                                                                                                                                                                                                    |                         [linear_model.LassoLarsCV](http://scikit-learn.org/stable/modules/generated/sklearn.linear_model.LassoLarsCV.html#sklearn.linear_model.LassoLarsCV)                         |                                                                Cross-validated Lasso, using the LARS algorithm                                                               |\n",
    "|                                                                                                                                                                                                    |                         [linear_model.LassoLarsIC](http://scikit-learn.org/stable/modules/generated/sklearn.linear_model.LassoLarsIC.html#sklearn.linear_model.LassoLarsIC)                         |                                                        Lasso model fit with Lars using BIC or AIC for model selection                                                        |\n",
    "|                                    [Orthogonal Matching Pursuit](http://scikit-learn.org/stable/modules/linear_model.html#orthogonal-matching-pursuit-omp)                                   |    [linear_model.OrthogonalMatchingPursuit](http://scikit-learn.org/stable/modules/generated/sklearn.linear_model.OrthogonalMatchingPursuit.html#sklearn.linear_model.OrthogonalMatchingPursuit)    |                                                                    Orthogonal Matching Pursuit model (OMP)                                                                   |\n",
    "|                                                                                                                                                                                                    | [linear_model.OrthogonalMatchingPursuitCV](http://scikit-learn.org/stable/modules/generated/sklearn.linear_model.OrthogonalMatchingPursuitCV.html#sklearn.linear_model.OrthogonalMatchingPursuitCV) |                                                            Cross-validated Orthogonal Matching Pursuit model (OMP)                                                           |\n",
    "|                                                                                                                                                                                                    |                      [linear_model.orthogonal_mp](http://scikit-learn.org/stable/modules/generated/sklearn.linear_model.orthogonal_mp.html#sklearn.linear_model.orthogonal_mp)                      |                                                                       Orthogonal Matching Pursuit (OMP)                                                                      |\n",
    "|                                                                                                                                                                                                    |               [linear_model.orthogonal_mp_gram](http://scikit-learn.org/stable/modules/generated/sklearn.linear_model.orthogonal_mp_gram.html#sklearn.linear_model.orthogonal_mp_gram)              |                                                                    Gram Orthogonal Matching Pursuit (OMP)                                                                    |\n",
    "|                                                 [Bayesian Regression](http://scikit-learn.org/stable/modules/linear_model.html#bayesian-regression)                                                |                      [linear_model.BayesianRidge](http://scikit-learn.org/stable/modules/generated/sklearn.linear_model.BayesianRidge.html#sklearn.linear_model.BayesianRidge)                      |                                [Bayesian ridge regression](http://scikit-learn.org/stable/modules/linear_model.html#bayesian-ridge-regression)                               |\n",
    "|                                                                                                                                                                                                    |                      [linear_model.ARDRegression](http://scikit-learn.org/stable/modules/generated/sklearn.linear_model.ARDRegression.html#sklearn.linear_model.ARDRegression)                      |                           [Bayesian ARD regression](http://scikit-learn.org/stable/modules/linear_model.html#automatic-relevance-determination-ard)                          |\n",
    "|                                           [Stochastic Gradient Descent](http://scikit-learn.org/stable/modules/sgd.html#stochastic-gradient-descent)                                          |                        [linear_model.SGDRegressor](http://scikit-learn.org/stable/modules/generated/sklearn.linear_model.SGDRegressor.html#sklearn.linear_model.SGDRegressor)                       |                                                    Linear model fitted by minimizing a regularized empirical loss with SGD                                                   |\n",
    "|                                       [Passive Aggressive Algorithms](http://scikit-learn.org/stable/modules/linear_model.html#passive-aggressive-algorithms)                                      |   [linear_model.PassiveAggressiveRegressor](http://scikit-learn.org/stable/modules/generated/sklearn.linear_model.PassiveAggressiveRegressor.html#sklearn.linear_model.PassiveAggressiveRegressor)  |                                                                         Passive Aggressive Regressor                                                                         |\n",
    "|                                [Robustness regression](http://scikit-learn.org/stable/modules/linear_model.html#robustness-regression-outliers-and-modeling-errors)                                |                   [linear_model.RANSACRegressor](http://scikit-learn.org/stable/modules/generated/sklearn.linear_model.RANSACRegressor.html#sklearn.linear_model.RANSACRegressor)                   |                     [RANSAC (RANdom SAmple Consensus) algorithm](http://scikit-learn.org/stable/modules/linear_model.html#ransac-random-sample-consensus)                    |\n",
    "|                                                                                                                                                                                                    |                [linear_model.TheilSenRegressor](http://scikit-learn.org/stable/modules/generated/sklearn.linear_model.TheilSenRegressor.html#sklearn.linear_model.TheilSenRegressor)                | [Theil-Sen Estimator: robust multivariate regression model](http://scikit-learn.org/stable/modules/linear_model.html#theil-sen-estimator-generalized-median-based-estimator) |\n",
    "|                                                                                                                                                                                                    |                     [linear_model.HuberRegressor](http://scikit-learn.org/stable/modules/generated/sklearn.linear_model.HuberRegressor.html#sklearn.linear_model.HuberRegressor)                    |                        [Linear regression model that is robust to outliers](http://scikit-learn.org/stable/modules/linear_model.html#huber-regression)                       |\n",
    "| [Polynomial regression](http://scikit-learn.org/stable/modules/linear_model.html#polynomial-regression-extending-linear-models-with-basis-functions) |[PolynomialFeatures](http://scikit-learn.org/stable/modules/generated/sklearn.preprocessing.PolynomialFeatures.html#sklearn-preprocessing-polynomialfeatures)|Linear regression can be extended by constructing polynomial features from the coefficients|\n",
    "||||\n",
    "|**2. [Kernel ridge regression](http://scikit-learn.org/stable/modules/kernel_ridge.html#kernel-ridge-regression)**|[kernel_ridge.KernelRidge](http://scikit-learn.org/stable/modules/generated/sklearn.kernel_ridge.KernelRidge.html#sklearn.kernel_ridge.KernelRidge)                      |combines Ridge Regression(linear least squares with l2-norm regularization) with the kernel trick|\n",
    "||||\n",
    "|             **3. [Support Vector Machines](http://scikit-learn.org/stable/modules/svm.html#support-vector-machines)**|   |   |\n",
    "|[Support Vector Regression](http://scikit-learn.org/stable/modules/svm.html#regression)|[svm.LinearSVR](http://scikit-learn.org/stable/modules/generated/sklearn.svm.LinearSVR.html#sklearn.svm.LinearSVR)|Linear Support Vector Regression.|\n",
    "||[svm.NuSVC](http://scikit-learn.org/stable/modules/generated/sklearn.svm.NuSVC.html#sklearn.svm.NuSVC)|Nu-Support Vector Classification.|\n",
    "||||\n",
    "|**4. [Nearest Neighbors](http://scikit-learn.org/stable/modules/neighbors.html#nearest-neighbors)**|||\n",
    "|[Nearest Neighbors Classification](http://scikit-learn.org/stable/modules/neighbors.html#nearest-neighbors-classification)|[neighbors.KNeighborsClassifier](http://scikit-learn.org/stable/modules/generated/sklearn.neighbors.KNeighborsClassifier.html#sklearn.neighbors.KNeighborsClassifier)|Classifier implementing the k-nearest neighbors vote.|\n",
    "||[neighbors.RadiusNeighborsClassifier](http://scikit-learn.org/stable/modules/generated/sklearn.neighbors.RadiusNeighborsClassifier.html#sklearn.neighbors.RadiusNeighborsClassifier)|Classifier implementing a vote among neighbors within a given radius.|\n",
    "||[neighbors.NearestCentroid](http://scikit-learn.org/stable/modules/generated/sklearn.neighbors.NearestCentroid.html#sklearn.neighbors.NearestCentroid)|Nearest centroid classifier.|\n",
    "||||\n",
    "|**5. [Gaussian Processes](http://scikit-learn.org/stable/modules/gaussian_process.html#gaussian-processes)**|||\n",
    "|[Gaussian Process Classification](http://scikit-learn.org/stable/modules/gaussian_process.html#gaussian-process-classification-gpc)|[gaussian_process.GaussianProcessClassifier](http://scikit-learn.org/stable/modules/generated/sklearn.gaussian_process.GaussianProcessClassifier.html#sklearn.gaussian_process.GaussianProcessClassifier)|Gaussian process classification (GPC) based on Laplace approximation.|\n",
    "||||\n",
    "|**6. [Cross decomposition](http://scikit-learn.org/stable/modules/cross_decomposition.html#cross-decomposition)**|[sklearn.cross_decomposition.PLSRegression](http://scikit-learn.org/stable/modules/generated/sklearn.cross_decomposition.PLSRegression.html#sklearn-cross-decomposition-plsregression)||\n",
    "||||\n",
    "|**7. [Decision Trees](http://scikit-learn.org/stable/modules/tree.html#decision-trees)**|||\n",
    "|[Decision Trees Regression](http://scikit-learn.org/stable/modules/tree.html#regression)|[tree.DecisionTreeRegressor](http://scikit-learn.org/stable/modules/generated/sklearn.tree.DecisionTreeRegressor.html#sklearn.tree.DecisionTreeRegressor)|A decision tree regressor.|\n",
    "||[tree.ExtraTreeRegressor](http://scikit-learn.org/stable/modules/classes.html#module-sklearn.tree)|An extremely randomized tree regressor.|\n",
    "||||\n",
    "|**8. [Ensemble Methods](http://scikit-learn.org/stable/modules/ensemble.html#ensemble-methods)**|[sklearn.ensemble](http://scikit-learn.org/stable/modules/classes.html#module-sklearn.ensemble)||\n",
    "|[Bagging](http://scikit-learn.org/stable/modules/ensemble.html#bagging-meta-estimator)|[ensemble.BaggingRegressor](http://scikit-learn.org/stable/modules/generated/sklearn.ensemble.BaggingRegressor.html#sklearn.ensemble.BaggingRegressor)|A Bagging regressor.|\n",
    "|[Random Forests](http://scikit-learn.org/stable/modules/ensemble.html#random-forests)|[ensemble.RandomForestRegressor](http://scikit-learn.org/stable/modules/generated/sklearn.ensemble.RandomForestRegressor.html#sklearn.ensemble.RandomForestRegressor)|A random forest regressor.|\n",
    "|[AdaBoost](http://scikit-learn.org/stable/modules/ensemble.html#adaboost)|[ensemble.AdaBoostRegressor](http://scikit-learn.org/stable/modules/generated/sklearn.ensemble.AdaBoostRegressor.html#sklearn.ensemble.AdaBoostRegressor)|An AdaBoost regressor.|\n",
    "|[Gradient Tree Boosting](http://scikit-learn.org/stable/modules/ensemble.html#gradient-tree-boosting)|[ensemble.GradientBoostingRegressor](http://scikit-learn.org/stable/modules/generated/sklearn.ensemble.GradientBoostingRegressor.html#sklearn.ensemble.GradientBoostingRegressor)|Gradient Boosting for regression.|\n",
    "||||\n",
    "|**9. [Multiclass and multilabel algorithms](http://scikit-learn.org/stable/modules/multiclass.html#multiclass-and-multilabel-algorithms)**|||\n",
    "|[Multioutput regression](http://scikit-learn.org/stable/modules/multiclass.html#multioutput-regression)|[multioutput.MultiOutputRegressor](http://scikit-learn.org/stable/modules/generated/sklearn.multioutput.MultiOutputRegressor.html#sklearn.multioutput.MultiOutputRegressor)|Multi target regression.|\n",
    "||[multioutput.RegressorChain](http://scikit-learn.org/stable/modules/generated/sklearn.multioutput.RegressorChain.html#sklearn.multioutput.RegressorChain)|(base_estimator)A multi-label model that arranges regressions into a chain.|\n",
    "||||\n",
    "|**10. [Isotonic regression](http://scikit-learn.org/stable/modules/isotonic.html#isotonic-regression)**|[isotonic.IsotonicRegression](http://scikit-learn.org/stable/modules/generated/sklearn.isotonic.IsotonicRegression.html#sklearn.isotonic.IsotonicRegression)||"
   ]
  },
  {
   "cell_type": "markdown",
   "metadata": {},
   "source": [
    "# Classification"
   ]
  },
  {
   "cell_type": "markdown",
   "metadata": {},
   "source": [
    "|**Model**|**Module**|**Explain**|\n",
    "|:--------------------------------------------------------------------------------------------------------------------------------------------------------------------------------------------------:|:---------------------------------------------------------------------------------------------------------------------------------------------------------------------------------------------------:|:----------------------------------------------------------------------------------------------------------------------------------------------------------------------------:|\n",
    "|**1. [Generalized Linear Models](http://scikit-learn.org/stable/modules/linear_model.html)**|||\n",
    "|                                             [Logistic regression](http://scikit-learn.org/stable/modules/linear_model.html#logistic-regression)            |                 [linear_model.LogisticRegression](http://scikit-learn.org/stable/modules/generated/sklearn.linear_model.LogisticRegression.html#sklearn.linear_model.LogisticRegression)          |                                                                  Logistic Regression (aka logit, MaxEnt) classifier.                                                                 |\n",
    "|                                                         |[linear_model.LogisticRegressionCV](http://scikit-learn.org/stable/modules/generated/sklearn.linear_model.LogisticRegressionCV.html#sklearn.linear_model.LogisticRegressionCV) |                                                                 Logistic Regression CV (aka logit, MaxEnt) classifier.                                                             |\n",
    "|[Stochastic Gradient Descent(SGD)](http://scikit-learn.org/stable/modules/sgd.html#stochastic-gradient-descent)|[linear_model.SGDClassifier](http://scikit-learn.org/stable/modules/generated/sklearn.linear_model.SGDClassifier.html#sklearn.linear_model.SGDClassifier)|                                                              Linear classifiers (SVM, logistic regression, a.o.) with SGD training.                                                              |\n",
    "|[Perceptron](http://scikit-learn.org/stable/modules/linear_model.html#perceptron)|[linear_model.Perceptron](http://scikit-learn.org/stable/modules/generated/sklearn.linear_model.Perceptron.html#sklearn-linear-model-perceptron)|                                                         Another simple classification algorithm suitable for large scale learning.                                                      |\n",
    "|[Passive Aggressive Algorithms](http://scikit-learn.org/stable/modules/linear_model.html#passive-aggressive-algorithms)|                                 [linear_model.PassiveAggressiveClassifier](http://scikit-learn.org/stable/modules/generated/sklearn.linear_model.PassiveAggressiveClassifier.html#sklearn.linear_model.PassiveAggressiveClassifier)                            |                                                       Passive Aggressive Classifier                                                      |\n",
    "||||\n",
    "|**2. [Linear and Quadratic Discriminant Analysis](http://scikit-learn.org/stable/modules/lda_qda.html#linear-and-quadratic-discriminant-analysis)**|||\n",
    "|Linear Discriminant Analysis|[discriminant_analysis.LinearDiscriminantAnalysis](http://scikit-learn.org/stable/modules/generated/sklearn.discriminant_analysis.LinearDiscriminantAnalysis.html#sklearn.discriminant_analysis.LinearDiscriminantAnalysis)|[description](https://godongyoung.github.io/%EB%A8%B8%EC%8B%A0%EB%9F%AC%EB%8B%9D/2018/01/23/ISL-Classification_ch4.html)|\n",
    "|Quadratic Discriminant Analysis|[discriminant_analysis.QuadraticDiscriminantAnalysis](http://scikit-learn.org/stable/modules/generated/sklearn.discriminant_analysis.QuadraticDiscriminantAnalysis.html#sklearn.discriminant_analysis.QuadraticDiscriminantAnalysis)||\n",
    "||||\n",
    "|             **3. [Support Vector Machines](http://scikit-learn.org/stable/modules/svm.html#support-vector-machines)**|   |   |\n",
    "|[Support Vector Classificaiton](http://scikit-learn.org/stable/modules/svm.html#classification)|[svm.LinearSVC](http://scikit-learn.org/stable/modules/generated/sklearn.svm.LinearSVC.html#sklearn.svm.LinearSVC)|Linear Support Vector Classification.|\n",
    "||[svm.NuSVR](http://scikit-learn.org/stable/modules/generated/sklearn.svm.NuSVR.html#sklearn.svm.NuSVR)|Nu Support Vector Regression.|\n",
    "||[svm.SVR](http://scikit-learn.org/stable/modules/generated/sklearn.svm.SVR.html#sklearn.svm.SVR)|Epsilon-Support Vector Regression.|\n",
    "||||\n",
    "|**4. [Nearest Neighbors](http://scikit-learn.org/stable/modules/neighbors.html#nearest-neighbors)**|||\n",
    "|[Nearest Neighbors Regression](http://scikit-learn.org/stable/modules/neighbors.html#nearest-neighbors-regression)|[neighbors.KNeighborsRegressor](http://scikit-learn.org/stable/modules/generated/sklearn.neighbors.KNeighborsRegressor.html#sklearn.neighbors.KNeighborsRegressor)|Regression based on k-nearest neighbors.|\n",
    "||[neighbors.RadiusNeighborsRegressor](http://scikit-learn.org/stable/modules/generated/sklearn.neighbors.RadiusNeighborsRegressor.html#sklearn.neighbors.RadiusNeighborsRegressor)|Regression based on neighbors within a fixed radius.|\n",
    "||||\n",
    "|**5. [Gaussian Processes](http://scikit-learn.org/stable/modules/gaussian_process.html#gaussian-processes)**|||\n",
    "|[Gaussian Process Regression](http://scikit-learn.org/stable/modules/gaussian_process.html#gaussian-process-regression-gpr)|[gaussian_process.GaussianProcessRegressor](http://scikit-learn.org/stable/modules/generated/sklearn.gaussian_process.GaussianProcessRegressor.html#sklearn.gaussian_process.GaussianProcessRegressor)|Gaussian process regression (GPR).|\n",
    "||||\n",
    "|**6. [Naive Bayes](http://scikit-learn.org/stable/modules/naive_bayes.html#naive-bayes)**|||\n",
    "|[Gaussian Naive Bayes](http://scikit-learn.org/stable/modules/naive_bayes.html#gaussian-naive-bayes)|[naive_bayes.GaussianNB](http://scikit-learn.org/stable/modules/generated/sklearn.naive_bayes.GaussianNB.html#sklearn.naive_bayes.GaussianNB)|implements the Gaussian Naive Bayes algorithm for classification.|\n",
    "|[Multinomial Naive Bayes](http://scikit-learn.org/stable/modules/naive_bayes.html#multinomial-naive-bayes)|[naive_bayes.MultinomialNB](http://scikit-learn.org/stable/modules/generated/sklearn.naive_bayes.MultinomialNB.html#sklearn.naive_bayes.MultinomialNB)|Naive Bayes classifier for multinomial models|\n",
    "|[Complement Naive Bayes](http://scikit-learn.org/stable/modules/naive_bayes.html#complement-naive-bayes)|[naive_bayes.ComplementNB](http://scikit-learn.org/stable/modules/generated/sklearn.naive_bayes.ComplementNB.html#sklearn.naive_bayes.ComplementNB)|The Complement Naive Bayes classifier described in Rennie et al.|\n",
    "|[Bernoulli Naive Bayes](http://scikit-learn.org/stable/modules/naive_bayes.html#bernoulli-naive-bayes)|[naive_bayes.BernoulliNB](http://scikit-learn.org/stable/modules/generated/sklearn.naive_bayes.BernoulliNB.html#sklearn.naive_bayes.BernoulliNB)|Naive Bayes classifier for multivariate Bernoulli models.|\n",
    "||||\n",
    "|**7. [Decision Trees](http://scikit-learn.org/stable/modules/tree.html#decision-trees)**|||\n",
    "|[Decision Trees Classification](http://scikit-learn.org/stable/modules/tree.html#classification)|[tree.DecisionTreeClassifier](http://scikit-learn.org/stable/modules/generated/sklearn.tree.DecisionTreeClassifier.html#sklearn.tree.DecisionTreeClassifier)|A decision tree classifier.|\n",
    "||[tree.ExtraTreeClassifier](http://scikit-learn.org/stable/modules/generated/sklearn.tree.ExtraTreeClassifier.html#sklearn.tree.ExtraTreeClassifier)|An extremely randomized tree classifier.|\n",
    "||||\n",
    "|**8. [Ensemble Methods](http://scikit-learn.org/stable/modules/ensemble.html#ensemble-methods)**|||\n",
    "|[Bagging](http://scikit-learn.org/stable/modules/ensemble.html#bagging-meta-estimator)|[ensemble.BaggingClassifier](http://scikit-learn.org/stable/modules/generated/sklearn.ensemble.GradientBoostingClassifier.html#sklearn.ensemble.GradientBoostingClassifier)|A Bagging Classifier.|\n",
    "|[Random Forests](http://scikit-learn.org/stable/modules/ensemble.html#random-forests)|[ensemble.RandomForestClassifier](http://scikit-learn.org/stable/modules/generated/sklearn.ensemble.RandomForestClassifier.html#sklearn.ensemble.RandomForestClassifier)|A random forest Classifier.|\n",
    "|[AdaBoost](http://scikit-learn.org/stable/modules/ensemble.html#adaboost)|[ensemble.AdaBoostClassifier](http://scikit-learn.org/stable/modules/generated/sklearn.ensemble.AdaBoostClassifier.html#sklearn.ensemble.AdaBoostClassifier)|An AdaBoost Classifier.|\n",
    "|[Gradient Tree Boosting](http://scikit-learn.org/stable/modules/ensemble.html#gradient-tree-boosting)|[ensemble.GradientBoostingClassifier](http://scikit-learn.org/stable/modules/generated/sklearn.ensemble.GradientBoostingClassifier.html#sklearn.ensemble.GradientBoostingClassifier)|Gradient Boosting for Classifier.|\n",
    "|[Voting Classifier](http://scikit-learn.org/stable/modules/ensemble.html#voting-classifier)|[ensemble.VotingClassifier](http://scikit-learn.org/stable/modules/generated/sklearn.ensemble.VotingClassifier.html#sklearn.ensemble.VotingClassifier)|Soft Voting/Majority Rule classifier for unfitted estimators.|\n",
    "||||\n",
    "|**9. [Multiclass and multilabel algorithms](http://scikit-learn.org/stable/modules/multiclass.html#multiclass-and-multilabel-algorithms)**|||\n",
    "|[One-Vs-The-Rest](https://scikit-learn.org/stable/modules/multiclass.html#one-vs-the-rest)|[multiclass.OneVsRestClassifier](http://scikit-learn.org/stable/modules/generated/sklearn.multioutput.MultiOutputRegressor.html#sklearn.multioutput.MultiOutputRegressor)|One-vs-the-rest (OvR) multiclass/multilabel strategy.|\n",
    "|[One-Vs-One](https://scikit-learn.org/stable/modules/multiclass.html#one-vs-one)|[multiclass.OneVsOneClassifier](http://scikit-learn.org/stable/modules/generated/sklearn.multiclass.OneVsOneClassifier.html#sklearn.multiclass.OneVsOneClassifier)|One-vs-one multiclass strategy|\n",
    "|[Error-Correcting Output-Codes](https://scikit-learn.org/stable/modules/multiclass.html#error-correcting-output-codes)|[multiclass.OutputCodeClassifier](https://scikit-learn.org/stable/modules/generated/sklearn.multiclass.OutputCodeClassifier.html#sklearn.multiclass.OutputCodeClassifier)|(Error-Correcting) Output-Code multiclass strategy|\n",
    "|[Multioutput classification](http://scikit-learn.org/stable/modules/multiclass.html#multioutput-classification)|[multioutput.MultiOutputClassifier](http://scikit-learn.org/stable/modules/generated/sklearn.multioutput.MultiOutputClassifier.html#sklearn.multioutput.MultiOutputClassifier)|Multi target classification|\n",
    "||[multioutput.ClassifierChain](http://scikit-learn.org/stable/modules/generated/sklearn.multioutput.ClassifierChain.html#sklearn.multioutput.ClassifierChain)|A multi-label model that arranges binary classifiers into a chain.|"
   ]
  }
 ],
 "metadata": {
  "kernelspec": {
   "display_name": "Python 3",
   "language": "python",
   "name": "python3"
  },
  "language_info": {
   "codemirror_mode": {
    "name": "ipython",
    "version": 3
   },
   "file_extension": ".py",
   "mimetype": "text/x-python",
   "name": "python",
   "nbconvert_exporter": "python",
   "pygments_lexer": "ipython3",
   "version": "3.6.5"
  }
 },
 "nbformat": 4,
 "nbformat_minor": 2
}
